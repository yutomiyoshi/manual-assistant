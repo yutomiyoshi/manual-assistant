{
 "cells": [
  {
   "cell_type": "markdown",
   "metadata": {},
   "source": [
    "## ここで実施すること\n",
    "\n",
    "既存LLMをファインチューニングすることで、柔軟かつ組織特色を帯びた対話能を実現する。\n",
    "\n",
    "### 目標\n",
    "\n",
    "- 質問に対して端的に回答する。\n",
    "\n",
    "- 語尾に「ってな～。」とつける"
   ]
  },
  {
   "cell_type": "code",
   "execution_count": 1,
   "metadata": {},
   "outputs": [],
   "source": [
    "from transformers import (\n",
    "    AutoTokenizer,\n",
    "    AutoModelForCausalLM,\n",
    "    BitsAndBytesConfig,\n",
    "    Trainer,\n",
    "    TrainingArguments,\n",
    "    DataCollatorForLanguageModeling\n",
    ")\n",
    "import torch\n",
    "import datasets\n",
    "import random"
   ]
  },
  {
   "cell_type": "markdown",
   "metadata": {},
   "source": [
    "#### モデルのロード"
   ]
  },
  {
   "cell_type": "code",
   "execution_count": 2,
   "metadata": {},
   "outputs": [
    {
     "data": {
      "text/plain": [
       "GPT2LMHeadModel(\n",
       "  (transformer): GPT2Model(\n",
       "    (wte): Embedding(44928, 2048)\n",
       "    (wpe): Embedding(1024, 2048)\n",
       "    (drop): Dropout(p=0.1, inplace=False)\n",
       "    (h): ModuleList(\n",
       "      (0-23): 24 x GPT2Block(\n",
       "        (ln_1): LayerNorm((2048,), eps=1e-05, elementwise_affine=True)\n",
       "        (attn): GPT2Attention(\n",
       "          (c_attn): Conv1D(nf=6144, nx=2048)\n",
       "          (c_proj): Conv1D(nf=2048, nx=2048)\n",
       "          (attn_dropout): Dropout(p=0.1, inplace=False)\n",
       "          (resid_dropout): Dropout(p=0.1, inplace=False)\n",
       "        )\n",
       "        (ln_2): LayerNorm((2048,), eps=1e-05, elementwise_affine=True)\n",
       "        (mlp): GPT2MLP(\n",
       "          (c_fc): Conv1D(nf=8192, nx=2048)\n",
       "          (c_proj): Conv1D(nf=2048, nx=8192)\n",
       "          (act): FastGELUActivation()\n",
       "          (dropout): Dropout(p=0.1, inplace=False)\n",
       "        )\n",
       "      )\n",
       "    )\n",
       "    (ln_f): LayerNorm((2048,), eps=1e-05, elementwise_affine=True)\n",
       "  )\n",
       "  (lm_head): Linear(in_features=2048, out_features=44928, bias=False)\n",
       ")"
      ]
     },
     "execution_count": 2,
     "metadata": {},
     "output_type": "execute_result"
    }
   ],
   "source": [
    "model_name = \"rinna/japanese-gpt-1b\"\n",
    "\n",
    "## トークナイザー\n",
    "tokenizer = AutoTokenizer.from_pretrained(\n",
    "    model_name,\n",
    "    legacy = False\n",
    ")\n",
    "\n",
    "## LLM\n",
    "model = AutoModelForCausalLM.from_pretrained(model_name)\n",
    "\n",
    "## 演算にコンピュータのGPUを利用する\n",
    "device = torch.device('cuda:0') if torch.cuda.is_available() else torch.device('cpu')\n",
    "model.to(device)"
   ]
  },
  {
   "cell_type": "code",
   "execution_count": 3,
   "metadata": {},
   "outputs": [],
   "source": [
    "def generate_sentence(\n",
    "    input_messages_series: str,\n",
    "    tkn,\n",
    "    mdl\n",
    "):\n",
    "    ##\n",
    "    input_tokens = tkn.encode(\n",
    "        input_messages_series,\n",
    "        return_tensors = 'pt',\n",
    "        add_special_tokens = False\n",
    "    ).to(mdl.device)\n",
    "    ##\n",
    "    output_tokens = mdl.generate(\n",
    "        input_tokens,\n",
    "        max_length = 100,\n",
    "        min_length = 100,\n",
    "        do_sample = True,\n",
    "        top_k = 500,\n",
    "        top_p = 0.95,\n",
    "        pad_token_id = tkn.pad_token_id,\n",
    "        bos_token_id = tkn.bos_token_id,\n",
    "        eos_token_id = tkn.eos_token_id,\n",
    "        bad_words_ids = [[tkn.unk_token_id]]\n",
    "    )\n",
    "    ##\n",
    "    output_messages_series = tkn.decode(\n",
    "        output_tokens[0],\n",
    "        skip_special_tokens = True\n",
    "    )\n",
    "    \n",
    "    ##\n",
    "    return output_messages_series"
   ]
  },
  {
   "cell_type": "code",
   "execution_count": 4,
   "metadata": {},
   "outputs": [
    {
     "name": "stdout",
     "output_type": "stream",
     "text": [
      "random モジュールを使用するにはどうしたらいいですか?それは何ですか、何を変更する必要がありますか?エラーはどういう意味ですか? VBA 'random' を呼び出すには何を知っていますか? ‘random' 関数はインスタンス変数だけでなくプロセス変数も渡します。そして 'random' 関数は、インスタンス変数 'random' とプロセス変数 'RANDOMA' を組み合わせたもので す。プロセス変数にアクセスするために、 'random'\n",
      "CPU times: user 1.71 s, sys: 192 ms, total: 1.9 s\n",
      "Wall time: 1.61 s\n"
     ]
    }
   ],
   "source": [
    "%%time\n",
    "\n",
    "print(generate_sentence(\n",
    "    \"random モジュールを使用するにはどうしたらいいですか？\",\n",
    "    tokenizer,\n",
    "    model\n",
    "))"
   ]
  },
  {
   "cell_type": "markdown",
   "metadata": {},
   "source": [
    "#### データセットのロード"
   ]
  },
  {
   "cell_type": "code",
   "execution_count": 5,
   "metadata": {},
   "outputs": [
    {
     "data": {
      "text/plain": [
       "Dataset({\n",
       "    features: ['passage_id', 'query', 'answer', 'text', 'title', 'url'],\n",
       "    num_rows: 10000\n",
       "})"
      ]
     },
     "execution_count": 5,
     "metadata": {},
     "output_type": "execute_result"
    }
   ],
   "source": [
    "ds = datasets.load_dataset(\"cl-nagoya/auto-wiki-qa\")\n",
    "ds = ds[\"train\"].shuffle().select(range(10000))\n",
    "ds"
   ]
  },
  {
   "cell_type": "code",
   "execution_count": 6,
   "metadata": {},
   "outputs": [
    {
     "data": {
      "text/plain": [
       "{'passage_id': 1934252,\n",
       " 'query': '鶴舞商業高等学校と市原園芸高等学校が合併したのはいつ？',\n",
       " 'answer': '2005年',\n",
       " 'text': 'なお、鶴舞町消滅後の1955年(昭和30年)に鶴舞商業高等学校・市原園芸高等学校の2校に分離、両校は2005年に合併して千葉県立鶴舞桜が丘高等学校になるが、2019年に市原高等学校との統合により閉校している。',\n",
       " 'title': '鶴舞町',\n",
       " 'url': 'https://ja.wikipedia.org/wiki/%E9%B6%B4%E8%88%9E%E7%94%BA'}"
      ]
     },
     "execution_count": 6,
     "metadata": {},
     "output_type": "execute_result"
    }
   ],
   "source": [
    "ds[0]"
   ]
  },
  {
   "cell_type": "code",
   "execution_count": 7,
   "metadata": {},
   "outputs": [
    {
     "data": {
      "application/vnd.jupyter.widget-view+json": {
       "model_id": "5f09d136c1604bc29e069879d2eb2a6e",
       "version_major": 2,
       "version_minor": 0
      },
      "text/plain": [
       "Map:   0%|          | 0/10000 [00:00<?, ? examples/s]"
      ]
     },
     "metadata": {},
     "output_type": "display_data"
    },
    {
     "data": {
      "text/plain": [
       "{'passage_id': 1934252,\n",
       " 'query': '鶴舞商業高等学校と市原園芸高等学校が合併したのはいつ？',\n",
       " 'answer': '2005年ってな～',\n",
       " 'text': 'なお、鶴舞町消滅後の1955年(昭和30年)に鶴舞商業高等学校・市原園芸高等学校の2校に分離、両校は2005年に合併して千葉県立鶴舞桜が丘高等学校になるが、2019年に市原高等学校との統合により閉校している。',\n",
       " 'title': '鶴舞町',\n",
       " 'url': 'https://ja.wikipedia.org/wiki/%E9%B6%B4%E8%88%9E%E7%94%BA'}"
      ]
     },
     "execution_count": 7,
     "metadata": {},
     "output_type": "execute_result"
    }
   ],
   "source": [
    "def dialectize(example):\n",
    "    ##\n",
    "    r = random.randint(1, 3)\n",
    "    if r == 1:\n",
    "        tail = \"ってな！\"\n",
    "    elif r == 2:\n",
    "        tail = \"ってな？？\"\n",
    "    else:\n",
    "        tail = \"ってな～\"\n",
    "        \n",
    "    ##\n",
    "    if example[\"answer\"][-1] == \"。\":\n",
    "        answer = example[\"answer\"].replace(\"です。\", tail).replace(\"ます。\", tail)\n",
    "    else:\n",
    "        answer = example[\"answer\"] + tail\n",
    "        \n",
    "    example[\"answer\"] = answer\n",
    "    return example\n",
    "\n",
    "ds = ds.map(\n",
    "    dialectize\n",
    ")\n",
    "ds[0]"
   ]
  },
  {
   "cell_type": "code",
   "execution_count": 8,
   "metadata": {},
   "outputs": [
    {
     "data": {
      "application/vnd.jupyter.widget-view+json": {
       "model_id": "c52e3e40ec244d1bbf1f0cd549c6a0f9",
       "version_major": 2,
       "version_minor": 0
      },
      "text/plain": [
       "Map:   0%|          | 0/10000 [00:00<?, ? examples/s]"
      ]
     },
     "metadata": {},
     "output_type": "display_data"
    },
    {
     "data": {
      "text/plain": [
       "Dataset({\n",
       "    features: ['passage_id', 'tmp', 'input_ids', 'attention_mask'],\n",
       "    num_rows: 10000\n",
       "})"
      ]
     },
     "execution_count": 8,
     "metadata": {},
     "output_type": "execute_result"
    }
   ],
   "source": [
    "MAX_LENGTH = 128\n",
    "\n",
    "def serialize(example):\n",
    "    example[\"tmp\"] = \"hhh:\\n{0}\\nqqq:\\n{1}\\naaa:\\n{2}\".format(example[\"text\"], example[\"query\"], example[\"answer\"])\n",
    "    return tokenizer(\n",
    "        example[\"tmp\"],\n",
    "        max_length = MAX_LENGTH,\n",
    "        padding = 'max_length',\n",
    "        truncation = True\n",
    "    )\n",
    "\n",
    "ds = ds.map(\n",
    "    serialize,\n",
    "    remove_columns = [\"query\", \"answer\", \"text\", \"title\", \"url\"]\n",
    ")\n",
    "ds"
   ]
  },
  {
   "cell_type": "code",
   "execution_count": 9,
   "metadata": {},
   "outputs": [
    {
     "data": {
      "text/plain": [
       "'hhh: なお、鶴舞町消滅後の1955年(昭和30年)に鶴舞商業高等学校・市原園芸高等学校の2校に分離、両校は2005年に合併して千葉県立鶴舞桜が丘高等学校になるが、2019年に市原高等学校との統合により閉校している。 qqq: 鶴舞商業高等学校と市原園芸高等学校が合併したのはいつ? aaa: 2005年ってな～</s>[PAD][PAD][PAD][PAD][PAD][PAD][PAD][PAD][PAD][PAD][PAD][PAD][PAD][PAD][PAD][PAD][PAD][PAD][PAD][PAD][PAD][PAD][PAD][PAD][PAD][PAD][PAD][PAD][PAD][PAD][PAD][PAD][PAD][PAD][PAD][PAD][PAD][PAD][PAD][PAD][PAD][PAD][PAD]'"
      ]
     },
     "execution_count": 9,
     "metadata": {},
     "output_type": "execute_result"
    }
   ],
   "source": [
    "tokenizer.decode(ds[0]['input_ids'])"
   ]
  },
  {
   "cell_type": "code",
   "execution_count": 10,
   "metadata": {},
   "outputs": [
    {
     "data": {
      "text/plain": [
       "DatasetDict({\n",
       "    train: Dataset({\n",
       "        features: ['passage_id', 'tmp', 'input_ids', 'attention_mask'],\n",
       "        num_rows: 9000\n",
       "    })\n",
       "    test: Dataset({\n",
       "        features: ['passage_id', 'tmp', 'input_ids', 'attention_mask'],\n",
       "        num_rows: 1000\n",
       "    })\n",
       "})"
      ]
     },
     "execution_count": 10,
     "metadata": {},
     "output_type": "execute_result"
    }
   ],
   "source": [
    "ds = ds.shuffle().train_test_split(test_size = 0.1)\n",
    "ds"
   ]
  },
  {
   "cell_type": "code",
   "execution_count": 11,
   "metadata": {},
   "outputs": [],
   "source": [
    "## チューニングパラメータ\n",
    "\n",
    "num_train_epochs = 8\n",
    "per_device_train_batch_size = 8\n",
    "per_device_eval_batch_size = 4\n",
    "learning_rate = 1e-4\n",
    "weight_decay = 0.01\n",
    "\n",
    "trained_model_name = 'seanayuuto/rinna-1b'"
   ]
  },
  {
   "cell_type": "code",
   "execution_count": 12,
   "metadata": {},
   "outputs": [],
   "source": [
    "## チューニングの準備\n",
    "\n",
    "training_args = TrainingArguments(\n",
    "    output_dir = f\"../{trained_model_name}\",\n",
    "    eval_strategy = 'epoch',\n",
    "    num_train_epochs = num_train_epochs,\n",
    "    per_device_train_batch_size = per_device_train_batch_size,\n",
    "    per_device_eval_batch_size = per_device_eval_batch_size,\n",
    "    learning_rate = learning_rate,\n",
    "    weight_decay = weight_decay,\n",
    "    logging_steps = 100\n",
    ")\n",
    "\n",
    "data_collator = DataCollatorForLanguageModeling(\n",
    "    tokenizer = tokenizer,\n",
    "    mlm = False\n",
    ")\n",
    "\n",
    "trainer = Trainer(\n",
    "    model,\n",
    "    args = training_args,\n",
    "    data_collator = data_collator,\n",
    "    train_dataset = ds['train'],\n",
    "    eval_dataset = ds['test']\n",
    ")"
   ]
  },
  {
   "cell_type": "code",
   "execution_count": null,
   "metadata": {},
   "outputs": [
    {
     "data": {
      "text/html": [
       "\n",
       "    <div>\n",
       "      \n",
       "      <progress value='1765' max='9000' style='width:300px; height:20px; vertical-align: middle;'></progress>\n",
       "      [1765/9000 24:42 < 1:41:22, 1.19 it/s, Epoch 1.57/8]\n",
       "    </div>\n",
       "    <table border=\"1\" class=\"dataframe\">\n",
       "  <thead>\n",
       " <tr style=\"text-align: left;\">\n",
       "      <th>Epoch</th>\n",
       "      <th>Training Loss</th>\n",
       "      <th>Validation Loss</th>\n",
       "    </tr>\n",
       "  </thead>\n",
       "  <tbody>\n",
       "    <tr>\n",
       "      <td>1</td>\n",
       "      <td>2.842900</td>\n",
       "      <td>2.685695</td>\n",
       "    </tr>\n",
       "  </tbody>\n",
       "</table><p>"
      ],
      "text/plain": [
       "<IPython.core.display.HTML object>"
      ]
     },
     "metadata": {},
     "output_type": "display_data"
    }
   ],
   "source": [
    "trainer.train()"
   ]
  },
  {
   "cell_type": "code",
   "execution_count": null,
   "metadata": {},
   "outputs": [],
   "source": [
    "## huggingface保存\n",
    "\n",
    "trainer.model.push_to_hub(\n",
    "    private = False,\n",
    "    repo_id = trained_model_name\n",
    ")"
   ]
  }
 ],
 "metadata": {
  "kernelspec": {
   "display_name": "Python 3 (ipykernel)",
   "language": "python",
   "name": "python3"
  },
  "language_info": {
   "codemirror_mode": {
    "name": "ipython",
    "version": 3
   },
   "file_extension": ".py",
   "mimetype": "text/x-python",
   "name": "python",
   "nbconvert_exporter": "python",
   "pygments_lexer": "ipython3",
   "version": "3.11.10"
  }
 },
 "nbformat": 4,
 "nbformat_minor": 4
}
