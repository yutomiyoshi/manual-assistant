{
 "cells": [
  {
   "cell_type": "markdown",
   "metadata": {},
   "source": [
    "## ここで実施すること\n",
    "\n",
    "既存LLMをファインチューニングすることで、柔軟かつ組織特色を帯びた対話能を実現する。\n",
    "\n",
    "### 目標\n",
    "\n",
    "- 質問に対して端的に回答する。\n",
    "\n",
    "- 語尾に「ってな！」「ってな？」とつける"
   ]
  },
  {
   "cell_type": "markdown",
   "metadata": {},
   "source": []
  }
 ],
 "metadata": {
  "language_info": {
   "name": "python"
  }
 },
 "nbformat": 4,
 "nbformat_minor": 2
}
