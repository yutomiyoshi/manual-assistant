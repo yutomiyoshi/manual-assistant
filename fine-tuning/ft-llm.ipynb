{
 "cells": [
  {
   "cell_type": "markdown",
   "metadata": {},
   "source": [
    "## ここで実施すること\n",
    "\n",
    "既存LLMをファインチューニングすることで、柔軟かつ組織特色を帯びた対話能を実現する。\n",
    "\n",
    "### 目標\n",
    "\n",
    "- 質問に対して端的に回答する。\n",
    "\n",
    "- 語尾に「ってな～。」とつける"
   ]
  },
  {
   "cell_type": "code",
   "execution_count": 1,
   "metadata": {},
   "outputs": [],
   "source": [
    "from transformers import (\n",
    "    AutoTokenizer,\n",
    "    AutoModelForCausalLM,\n",
    "    BitsAndBytesConfig,\n",
    "    Trainer,\n",
    "    TrainingArguments,\n",
    "    DataCollatorForLanguageModeling\n",
    ")\n",
    "import torch\n",
    "import datasets\n",
    "import random"
   ]
  },
  {
   "cell_type": "markdown",
   "metadata": {},
   "source": [
    "#### モデルのロード"
   ]
  },
  {
   "cell_type": "code",
   "execution_count": 2,
   "metadata": {},
   "outputs": [
    {
     "data": {
      "text/plain": [
       "GPT2LMHeadModel(\n",
       "  (transformer): GPT2Model(\n",
       "    (wte): Embedding(32000, 1024)\n",
       "    (wpe): Embedding(1024, 1024)\n",
       "    (drop): Dropout(p=0.1, inplace=False)\n",
       "    (h): ModuleList(\n",
       "      (0-23): 24 x GPT2Block(\n",
       "        (ln_1): LayerNorm((1024,), eps=1e-05, elementwise_affine=True)\n",
       "        (attn): GPT2Attention(\n",
       "          (c_attn): Conv1D(nf=3072, nx=1024)\n",
       "          (c_proj): Conv1D(nf=1024, nx=1024)\n",
       "          (attn_dropout): Dropout(p=0.1, inplace=False)\n",
       "          (resid_dropout): Dropout(p=0.1, inplace=False)\n",
       "        )\n",
       "        (ln_2): LayerNorm((1024,), eps=1e-05, elementwise_affine=True)\n",
       "        (mlp): GPT2MLP(\n",
       "          (c_fc): Conv1D(nf=4096, nx=1024)\n",
       "          (c_proj): Conv1D(nf=1024, nx=4096)\n",
       "          (act): NewGELUActivation()\n",
       "          (dropout): Dropout(p=0.1, inplace=False)\n",
       "        )\n",
       "      )\n",
       "    )\n",
       "    (ln_f): LayerNorm((1024,), eps=1e-05, elementwise_affine=True)\n",
       "  )\n",
       "  (lm_head): Linear(in_features=1024, out_features=32000, bias=False)\n",
       ")"
      ]
     },
     "execution_count": 2,
     "metadata": {},
     "output_type": "execute_result"
    }
   ],
   "source": [
    "model_name = \"rinna/japanese-gpt2-medium\"\n",
    "\n",
    "## トークナイザー\n",
    "tokenizer = AutoTokenizer.from_pretrained(\n",
    "    model_name,\n",
    "    legacy = False\n",
    ")\n",
    "\n",
    "## LLM\n",
    "model = AutoModelForCausalLM.from_pretrained(model_name)\n",
    "\n",
    "## 演算にコンピュータのGPUを利用する\n",
    "device = torch.device('cuda:0') if torch.cuda.is_available() else torch.device('cpu')\n",
    "model.to(device)"
   ]
  },
  {
   "cell_type": "code",
   "execution_count": 3,
   "metadata": {},
   "outputs": [],
   "source": [
    "def generate_sentence(\n",
    "    input_messages_series: str,\n",
    "    tkn,\n",
    "    mdl\n",
    "):\n",
    "    ##\n",
    "    input_tokens = tkn.encode(\n",
    "        input_messages_series,\n",
    "        return_tensors = 'pt',\n",
    "        add_special_tokens = False\n",
    "    ).to(mdl.device)\n",
    "    ##\n",
    "    output_tokens = mdl.generate(\n",
    "        input_tokens,\n",
    "        max_length = 100,\n",
    "        min_length = 100,\n",
    "        do_sample = True,\n",
    "        top_k = 500,\n",
    "        top_p = 0.95,\n",
    "        pad_token_id = tkn.pad_token_id,\n",
    "        bos_token_id = tkn.bos_token_id,\n",
    "        eos_token_id = tkn.eos_token_id,\n",
    "        bad_words_ids = [[tkn.unk_token_id]]\n",
    "    )\n",
    "    ##\n",
    "    output_messages_series = tkn.decode(\n",
    "        output_tokens[0],\n",
    "        skip_special_tokens = True\n",
    "    )\n",
    "    \n",
    "    ##\n",
    "    return output_messages_series"
   ]
  },
  {
   "cell_type": "code",
   "execution_count": 4,
   "metadata": {},
   "outputs": [
    {
     "name": "stdout",
     "output_type": "stream",
     "text": [
      "random モジュールを使用するにはどうしたらいいですか? - trigun ガイド このプログラムは、random 関連モジュールを使用するための要件と手順を定義します。このパッケージでは tariff の他に tensorflow 関数や salt ランディングページを指定するモジュールもサポートしています。また、このランディングページは clink 用 tensorflow を実行中、または実行中に問題なく読み込まれた場合にのみ\n",
      "CPU times: user 1.77 s, sys: 306 ms, total: 2.07 s\n",
      "Wall time: 2.07 s\n"
     ]
    }
   ],
   "source": [
    "%%time\n",
    "\n",
    "print(generate_sentence(\n",
    "    \"random モジュールを使用するにはどうしたらいいですか？\",\n",
    "    tokenizer,\n",
    "    model\n",
    "))"
   ]
  },
  {
   "cell_type": "markdown",
   "metadata": {},
   "source": [
    "#### データセットのロード"
   ]
  },
  {
   "cell_type": "code",
   "execution_count": 5,
   "metadata": {},
   "outputs": [
    {
     "data": {
      "text/plain": [
       "Dataset({\n",
       "    features: ['passage_id', 'query', 'answer', 'text', 'title', 'url'],\n",
       "    num_rows: 1000\n",
       "})"
      ]
     },
     "execution_count": 5,
     "metadata": {},
     "output_type": "execute_result"
    }
   ],
   "source": [
    "ds = datasets.load_dataset(\"cl-nagoya/auto-wiki-qa\")\n",
    "ds = ds[\"train\"].shuffle().select(range(1000))\n",
    "ds"
   ]
  },
  {
   "cell_type": "code",
   "execution_count": 6,
   "metadata": {},
   "outputs": [
    {
     "data": {
      "text/plain": [
       "{'passage_id': 3524337,\n",
       " 'query': 'アフリカ系トルコ人はどこに多い？',\n",
       " 'answer': 'エーゲ海地方',\n",
       " 'text': '少なからぬアフリカ系トルコ人人口が存在する地域がエーゲ海地方、特に、イズミル県、アイドゥン県、ムーラ県にある。アンタルヤ県とアダナ県の村や町にもアフリカ系黒人を先祖に持つ人々がいる。これらのアフリカ系移住民の中には移住先に残ったり、通婚により他のエスニックグループに同化していったりするグループもあるが、多くの者が、より大きな都会へと二次移住した。また、このことはアフリカ系トルコ人の正確な人口の推定を難しくしている要因でもある。',\n",
       " 'title': 'アフリカ系トルコ人',\n",
       " 'url': 'https://ja.wikipedia.org/wiki/%E3%82%A2%E3%83%95%E3%83%AA%E3%82%AB%E7%B3%BB%E3%83%88%E3%83%AB%E3%82%B3%E4%BA%BA'}"
      ]
     },
     "execution_count": 6,
     "metadata": {},
     "output_type": "execute_result"
    }
   ],
   "source": [
    "ds[0]"
   ]
  },
  {
   "cell_type": "code",
   "execution_count": 7,
   "metadata": {},
   "outputs": [
    {
     "data": {
      "application/vnd.jupyter.widget-view+json": {
       "model_id": "c4dae662cf6f4d32b610ac8c74ebdb7d",
       "version_major": 2,
       "version_minor": 0
      },
      "text/plain": [
       "Map:   0%|          | 0/1000 [00:00<?, ? examples/s]"
      ]
     },
     "metadata": {},
     "output_type": "display_data"
    },
    {
     "data": {
      "text/plain": [
       "{'passage_id': 3524337,\n",
       " 'query': 'アフリカ系トルコ人はどこに多い？',\n",
       " 'answer': 'エーゲ海地方ってな～',\n",
       " 'text': '少なからぬアフリカ系トルコ人人口が存在する地域がエーゲ海地方、特に、イズミル県、アイドゥン県、ムーラ県にある。アンタルヤ県とアダナ県の村や町にもアフリカ系黒人を先祖に持つ人々がいる。これらのアフリカ系移住民の中には移住先に残ったり、通婚により他のエスニックグループに同化していったりするグループもあるが、多くの者が、より大きな都会へと二次移住した。また、このことはアフリカ系トルコ人の正確な人口の推定を難しくしている要因でもある。',\n",
       " 'title': 'アフリカ系トルコ人',\n",
       " 'url': 'https://ja.wikipedia.org/wiki/%E3%82%A2%E3%83%95%E3%83%AA%E3%82%AB%E7%B3%BB%E3%83%88%E3%83%AB%E3%82%B3%E4%BA%BA'}"
      ]
     },
     "execution_count": 7,
     "metadata": {},
     "output_type": "execute_result"
    }
   ],
   "source": [
    "def dialectize(example):\n",
    "    ##\n",
    "    r = random.randint(1, 3)\n",
    "    if r == 1:\n",
    "        tail = \"ってな！\"\n",
    "    elif r == 2:\n",
    "        tail = \"ってな？？\"\n",
    "    else:\n",
    "        tail = \"ってな～\"\n",
    "        \n",
    "    ##\n",
    "    if example[\"answer\"][-1] == \"。\":\n",
    "        answer = example[\"answer\"].replace(\"です。\", tail).replace(\"ます。\", tail)\n",
    "    else:\n",
    "        answer = example[\"answer\"] + tail\n",
    "        \n",
    "    example[\"answer\"] = answer\n",
    "    return example\n",
    "\n",
    "ds = ds.map(\n",
    "    dialectize\n",
    ")\n",
    "ds[0]"
   ]
  },
  {
   "cell_type": "code",
   "execution_count": 8,
   "metadata": {},
   "outputs": [
    {
     "data": {
      "application/vnd.jupyter.widget-view+json": {
       "model_id": "39146a9a540845b69dfd37ba899bf6f3",
       "version_major": 2,
       "version_minor": 0
      },
      "text/plain": [
       "Map:   0%|          | 0/1000 [00:00<?, ? examples/s]"
      ]
     },
     "metadata": {},
     "output_type": "display_data"
    },
    {
     "data": {
      "text/plain": [
       "Dataset({\n",
       "    features: ['passage_id', 'tmp', 'input_ids', 'attention_mask'],\n",
       "    num_rows: 1000\n",
       "})"
      ]
     },
     "execution_count": 8,
     "metadata": {},
     "output_type": "execute_result"
    }
   ],
   "source": [
    "MAX_LENGTH = 256\n",
    "\n",
    "def serialize(example):\n",
    "    example[\"tmp\"] = \"hhh:\\n{0}\\nqqq:\\n{1}\\naaa:\\n{2}\".format(example[\"text\"], example[\"query\"], example[\"answer\"])\n",
    "    return tokenizer(\n",
    "        example[\"tmp\"],\n",
    "        max_length = MAX_LENGTH,\n",
    "        padding = 'max_length',\n",
    "        truncation = True\n",
    "    )\n",
    "\n",
    "ds = ds.map(\n",
    "    serialize,\n",
    "    remove_columns = [\"query\", \"answer\", \"text\", \"title\", \"url\"]\n",
    ")\n",
    "ds"
   ]
  },
  {
   "cell_type": "code",
   "execution_count": 9,
   "metadata": {},
   "outputs": [
    {
     "data": {
      "text/plain": [
       "'hhh: 少なからぬアフリカ系トルコ人人口が存在する地域がエーゲ海地方、特に、イズミル県、アイドゥン県、ムーラ県にある。アンタルヤ県とアダナ県の村や町にもアフリカ系黒人を先祖に持つ人々がいる。これらのアフリカ系移住民の中には移住先に残ったり、通婚により他のエスニックグループに同化していったりするグループもあるが、多くの者が、より大きな都会へと二次移住した。また、このことはアフリカ系トルコ人の正確な人口の推定を難しくしている要因でもある。 qqq: アフリカ系トルコ人はどこに多い? aaa: エーゲ海地方ってな～</s>[PAD][PAD][PAD][PAD][PAD][PAD][PAD][PAD][PAD][PAD][PAD][PAD][PAD][PAD][PAD][PAD][PAD][PAD][PAD][PAD][PAD][PAD][PAD][PAD][PAD][PAD][PAD][PAD][PAD][PAD][PAD][PAD][PAD][PAD][PAD][PAD][PAD][PAD][PAD][PAD][PAD][PAD][PAD][PAD][PAD][PAD][PAD][PAD][PAD][PAD][PAD][PAD][PAD][PAD][PAD][PAD][PAD][PAD][PAD][PAD][PAD][PAD][PAD][PAD][PAD][PAD][PAD][PAD][PAD][PAD][PAD][PAD][PAD][PAD][PAD][PAD][PAD][PAD][PAD][PAD][PAD][PAD][PAD][PAD][PAD][PAD][PAD][PAD][PAD][PAD][PAD][PAD][PAD][PAD][PAD][PAD][PAD][PAD][PAD][PAD][PAD][PAD][PAD][PAD][PAD][PAD][PAD][PAD][PAD][PAD][PAD][PAD][PAD][PAD][PAD][PAD][PAD][PAD][PAD]'"
      ]
     },
     "execution_count": 9,
     "metadata": {},
     "output_type": "execute_result"
    }
   ],
   "source": [
    "tokenizer.decode(ds[0]['input_ids'])"
   ]
  },
  {
   "cell_type": "code",
   "execution_count": 10,
   "metadata": {},
   "outputs": [
    {
     "data": {
      "text/plain": [
       "DatasetDict({\n",
       "    train: Dataset({\n",
       "        features: ['passage_id', 'tmp', 'input_ids', 'attention_mask'],\n",
       "        num_rows: 900\n",
       "    })\n",
       "    test: Dataset({\n",
       "        features: ['passage_id', 'tmp', 'input_ids', 'attention_mask'],\n",
       "        num_rows: 100\n",
       "    })\n",
       "})"
      ]
     },
     "execution_count": 10,
     "metadata": {},
     "output_type": "execute_result"
    }
   ],
   "source": [
    "ds = ds.shuffle().train_test_split(test_size = 0.1)\n",
    "ds"
   ]
  },
  {
   "cell_type": "code",
   "execution_count": 11,
   "metadata": {},
   "outputs": [],
   "source": [
    "## チューニングパラメータ\n",
    "\n",
    "num_train_epochs = 8\n",
    "per_device_train_batch_size = 8\n",
    "per_device_eval_batch_size = 4\n",
    "learning_rate = 1e-4\n",
    "weight_decay = 0.01\n",
    "\n",
    "trained_model_name = 'seanayuuto/rinna-1b'"
   ]
  },
  {
   "cell_type": "code",
   "execution_count": 12,
   "metadata": {},
   "outputs": [
    {
     "name": "stderr",
     "output_type": "stream",
     "text": [
      "Detected kernel version 5.4.0, which is below the recommended minimum of 5.5.0; this can cause the process to hang. It is recommended to upgrade the kernel to the minimum version or higher.\n"
     ]
    }
   ],
   "source": [
    "## チューニングの準備\n",
    "\n",
    "training_args = TrainingArguments(\n",
    "    output_dir = f\"../{trained_model_name}\",\n",
    "    eval_strategy = 'epoch',\n",
    "    num_train_epochs = num_train_epochs,\n",
    "    per_device_train_batch_size = per_device_train_batch_size,\n",
    "    per_device_eval_batch_size = per_device_eval_batch_size,\n",
    "    learning_rate = learning_rate,\n",
    "    weight_decay = weight_decay,\n",
    "    logging_steps = 100\n",
    ")\n",
    "\n",
    "data_collator = DataCollatorForLanguageModeling(\n",
    "    tokenizer = tokenizer,\n",
    "    mlm = False\n",
    ")\n",
    "\n",
    "trainer = Trainer(\n",
    "    model,\n",
    "    args = training_args,\n",
    "    data_collator = data_collator,\n",
    "    train_dataset = ds['train'],\n",
    "    eval_dataset = ds['test']\n",
    ")"
   ]
  },
  {
   "cell_type": "code",
   "execution_count": 13,
   "metadata": {},
   "outputs": [
    {
     "data": {
      "text/html": [
       "\n",
       "    <div>\n",
       "      \n",
       "      <progress value='904' max='904' style='width:300px; height:20px; vertical-align: middle;'></progress>\n",
       "      [904/904 06:36, Epoch 8/8]\n",
       "    </div>\n",
       "    <table border=\"1\" class=\"dataframe\">\n",
       "  <thead>\n",
       " <tr style=\"text-align: left;\">\n",
       "      <th>Epoch</th>\n",
       "      <th>Training Loss</th>\n",
       "      <th>Validation Loss</th>\n",
       "    </tr>\n",
       "  </thead>\n",
       "  <tbody>\n",
       "    <tr>\n",
       "      <td>1</td>\n",
       "      <td>2.573400</td>\n",
       "      <td>2.313496</td>\n",
       "    </tr>\n",
       "    <tr>\n",
       "      <td>2</td>\n",
       "      <td>1.896400</td>\n",
       "      <td>2.343163</td>\n",
       "    </tr>\n",
       "    <tr>\n",
       "      <td>3</td>\n",
       "      <td>1.411100</td>\n",
       "      <td>2.459843</td>\n",
       "    </tr>\n",
       "    <tr>\n",
       "      <td>4</td>\n",
       "      <td>1.034400</td>\n",
       "      <td>2.576315</td>\n",
       "    </tr>\n",
       "    <tr>\n",
       "      <td>5</td>\n",
       "      <td>0.771000</td>\n",
       "      <td>2.659364</td>\n",
       "    </tr>\n",
       "    <tr>\n",
       "      <td>6</td>\n",
       "      <td>0.577800</td>\n",
       "      <td>2.710455</td>\n",
       "    </tr>\n",
       "    <tr>\n",
       "      <td>7</td>\n",
       "      <td>0.450900</td>\n",
       "      <td>2.740462</td>\n",
       "    </tr>\n",
       "    <tr>\n",
       "      <td>8</td>\n",
       "      <td>0.322900</td>\n",
       "      <td>2.763320</td>\n",
       "    </tr>\n",
       "  </tbody>\n",
       "</table><p>"
      ],
      "text/plain": [
       "<IPython.core.display.HTML object>"
      ]
     },
     "metadata": {},
     "output_type": "display_data"
    },
    {
     "name": "stdout",
     "output_type": "stream",
     "text": [
      "CPU times: user 5min 21s, sys: 1min 6s, total: 6min 27s\n",
      "Wall time: 6min 37s\n"
     ]
    },
    {
     "data": {
      "text/plain": [
       "TrainOutput(global_step=904, training_loss=1.0421991805850932, metrics={'train_runtime': 397.155, 'train_samples_per_second': 18.129, 'train_steps_per_second': 2.276, 'total_flos': 3343322500300800.0, 'train_loss': 1.0421991805850932, 'epoch': 8.0})"
      ]
     },
     "execution_count": 13,
     "metadata": {},
     "output_type": "execute_result"
    }
   ],
   "source": [
    "%%time\n",
    "trainer.train()"
   ]
  },
  {
   "cell_type": "code",
   "execution_count": null,
   "metadata": {},
   "outputs": [],
   "source": [
    "hint = \"18、19日実施の毎日新聞世論調査で、選択的夫婦別姓制度を導入することに賛成かどうかを聞いた。「賛成」は42％で、「反対」は23％。「どちらとも言えない」は34％だった。\"\n",
    "question = \"選択的夫婦別姓のさん\"\n",
    "\n",
    "print(generate_sentence(\n",
    "    f\"hhh:\\n{hint}\\nqqq:\\n{question}\\naaa:\\n\",\n",
    "    tokenizer,\n",
    "    trainer.model\n",
    "))"
   ]
  },
  {
   "cell_type": "code",
   "execution_count": 14,
   "metadata": {},
   "outputs": [],
   "source": [
    "# ## huggingface保存\n",
    "\n",
    "# trainer.model.push_to_hub(\n",
    "#     private = False,\n",
    "#     repo_id = trained_model_name\n",
    "# )"
   ]
  }
 ],
 "metadata": {
  "kernelspec": {
   "display_name": "Python 3 (ipykernel)",
   "language": "python",
   "name": "python3"
  },
  "language_info": {
   "codemirror_mode": {
    "name": "ipython",
    "version": 3
   },
   "file_extension": ".py",
   "mimetype": "text/x-python",
   "name": "python",
   "nbconvert_exporter": "python",
   "pygments_lexer": "ipython3",
   "version": "3.11.10"
  }
 },
 "nbformat": 4,
 "nbformat_minor": 4
}
