{
 "cells": [
  {
   "cell_type": "code",
   "execution_count": 1,
   "metadata": {},
   "outputs": [],
   "source": [
    "from transformers import (\n",
    "    AutoTokenizer,\n",
    "    AutoModelForCausalLM,\n",
    "    BitsAndBytesConfig,\n",
    "    Trainer,\n",
    "    TrainingArguments,\n",
    "    DataCollatorForLanguageModeling\n",
    ")\n",
    "import torch\n",
    "import datasets\n",
    "import random"
   ]
  },
  {
   "cell_type": "code",
   "execution_count": 2,
   "metadata": {},
   "outputs": [
    {
     "data": {
      "text/plain": [
       "GPT2LMHeadModel(\n",
       "  (transformer): GPT2Model(\n",
       "    (wte): Embedding(32000, 1024)\n",
       "    (wpe): Embedding(1024, 1024)\n",
       "    (drop): Dropout(p=0.1, inplace=False)\n",
       "    (h): ModuleList(\n",
       "      (0-23): 24 x GPT2Block(\n",
       "        (ln_1): LayerNorm((1024,), eps=1e-05, elementwise_affine=True)\n",
       "        (attn): GPT2Attention(\n",
       "          (c_attn): Conv1D(nf=3072, nx=1024)\n",
       "          (c_proj): Conv1D(nf=1024, nx=1024)\n",
       "          (attn_dropout): Dropout(p=0.1, inplace=False)\n",
       "          (resid_dropout): Dropout(p=0.1, inplace=False)\n",
       "        )\n",
       "        (ln_2): LayerNorm((1024,), eps=1e-05, elementwise_affine=True)\n",
       "        (mlp): GPT2MLP(\n",
       "          (c_fc): Conv1D(nf=4096, nx=1024)\n",
       "          (c_proj): Conv1D(nf=1024, nx=4096)\n",
       "          (act): NewGELUActivation()\n",
       "          (dropout): Dropout(p=0.1, inplace=False)\n",
       "        )\n",
       "      )\n",
       "    )\n",
       "    (ln_f): LayerNorm((1024,), eps=1e-05, elementwise_affine=True)\n",
       "  )\n",
       "  (lm_head): Linear(in_features=1024, out_features=32000, bias=False)\n",
       ")"
      ]
     },
     "execution_count": 2,
     "metadata": {},
     "output_type": "execute_result"
    }
   ],
   "source": [
    "model_name = \"rinna/japanese-gpt2-medium\"\n",
    "\n",
    "## トークナイザー\n",
    "tokenizer = AutoTokenizer.from_pretrained(\n",
    "    model_name,\n",
    "    legacy = False\n",
    ")\n",
    "\n",
    "## LLM\n",
    "model = AutoModelForCausalLM.from_pretrained(model_name)\n",
    "\n",
    "## 演算にコンピュータのGPUを利用する\n",
    "device = torch.device('cuda:0') if torch.cuda.is_available() else torch.device('cpu')\n",
    "model.to(device)"
   ]
  },
  {
   "cell_type": "code",
   "execution_count": 26,
   "metadata": {},
   "outputs": [],
   "source": [
    "\"\"\"\n",
    "文章生成する\n",
    "@param input_messages_series 一連の入力文章（文章の型はmdlに合わせる）\n",
    "@param tkn トークナイザー\n",
    "@param mdl モデル\n",
    "\"\"\"\n",
    "def generate_sentence(\n",
    "    input_messages_series: str,\n",
    "    tkn,\n",
    "    mdl\n",
    "):\n",
    "    ##\n",
    "    input_tokens = tkn.encode(\n",
    "        input_messages_series,\n",
    "        return_tensors = 'pt',\n",
    "        add_special_tokens = False\n",
    "    ).to(mdl.device)\n",
    "    ##\n",
    "    output_tokens = mdl.generate(\n",
    "        input_tokens,\n",
    "        # max_length = 200,\n",
    "        # min_length = 200,\n",
    "        max_new_tokens = 32,\n",
    "        do_sample = True,\n",
    "        top_k = 500,\n",
    "        top_p = 0.95,\n",
    "        pad_token_id = tkn.pad_token_id,\n",
    "        bos_token_id = tkn.bos_token_id,\n",
    "        eos_token_id = tkn.eos_token_id,\n",
    "        bad_words_ids = [[tkn.unk_token_id]]\n",
    "    )\n",
    "    ##\n",
    "    output_messages_series = tkn.decode(\n",
    "        output_tokens[0],\n",
    "        skip_special_tokens = True\n",
    "    )\n",
    "    \n",
    "    ##\n",
    "    return output_messages_series"
   ]
  },
  {
   "cell_type": "code",
   "execution_count": 27,
   "metadata": {},
   "outputs": [
    {
     "name": "stdout",
     "output_type": "stream",
     "text": [
      "小学校給食の無料化は何年をめどに達成されますか? いままで400年間、無償で子どもたちにご飯を食べさせてきました。なぜ、無料にするのか? #nhk https://t\n",
      "CPU times: user 464 ms, sys: 619 μs, total: 465 ms\n",
      "Wall time: 463 ms\n"
     ]
    }
   ],
   "source": [
    "%%time\n",
    "\n",
    "## サンプル\n",
    "## トレーニング前なので回答しないはず\n",
    "\n",
    "print(generate_sentence(\n",
    "    \"小学校給食の無料化は何年をめどに達成されますか？\",\n",
    "    tokenizer,\n",
    "    model\n",
    "))"
   ]
  },
  {
   "cell_type": "code",
   "execution_count": 5,
   "metadata": {},
   "outputs": [
    {
     "data": {
      "text/plain": [
       "DatasetDict({\n",
       "    train: Dataset({\n",
       "        features: ['passage_id', 'query', 'answer', 'text', 'title', 'url'],\n",
       "        num_rows: 2377503\n",
       "    })\n",
       "})"
      ]
     },
     "execution_count": 5,
     "metadata": {},
     "output_type": "execute_result"
    }
   ],
   "source": [
    "## データセットをロードする\n",
    "\n",
    "ds = datasets.load_dataset(\"cl-nagoya/auto-wiki-qa\")\n",
    "ds"
   ]
  },
  {
   "cell_type": "code",
   "execution_count": 6,
   "metadata": {},
   "outputs": [
    {
     "data": {
      "text/plain": [
       "DatasetDict({\n",
       "    train: Dataset({\n",
       "        features: ['passage_id', 'query', 'answer', 'text', 'title', 'url'],\n",
       "        num_rows: 132732\n",
       "    })\n",
       "})"
      ]
     },
     "execution_count": 6,
     "metadata": {},
     "output_type": "execute_result"
    }
   ],
   "source": [
    "## 文字数が多すぎるサンプルは省く\n",
    "\n",
    "## 文字数が多いものを含むと学習がうまくいかなかった\n",
    "## 文字数が多いものに全トークン長を合わせると、パディングが多くなり、学習の質が低下する\n",
    "\n",
    "ds = ds.filter(\n",
    "    lambda example: len(example[\"text\"]) < 100\n",
    ")\n",
    "ds"
   ]
  },
  {
   "cell_type": "code",
   "execution_count": 7,
   "metadata": {},
   "outputs": [
    {
     "data": {
      "text/plain": [
       "{'passage_id': 2832,\n",
       " 'query': '6月4日は年始から何日目？',\n",
       " 'answer': '155日目',\n",
       " 'text': '6月4日(ろくがつよっか)は、グレゴリオ暦で年始から155日目(閏年では156日目)にあたり、年末まであと210日ある。',\n",
       " 'title': '6月4日',\n",
       " 'url': 'https://ja.wikipedia.org/wiki/6%E6%9C%884%E6%97%A5'}"
      ]
     },
     "execution_count": 7,
     "metadata": {},
     "output_type": "execute_result"
    }
   ],
   "source": [
    "ds[\"train\"][110]"
   ]
  },
  {
   "cell_type": "markdown",
   "metadata": {},
   "source": [
    "## 対話の型を学習させる\n",
    "\n",
    "cyberagentのLLMを参考にして、前情報 + 質問 + 回答のブロックを作成する。\n",
    "\n",
    "[url](https://huggingface.co/cyberagent/calm3-22b-chat)"
   ]
  },
  {
   "cell_type": "code",
   "execution_count": 8,
   "metadata": {},
   "outputs": [],
   "source": [
    "## 対話の型となるフレームワード\n",
    "## cyberagentのLLMを参考にする\n",
    "## https://huggingface.co/cyberagent/calm3-22b-chat\n",
    "\n",
    "start_block = \"<|im_start|>\"\n",
    "end_block = \"<|im_end|>\""
   ]
  },
  {
   "cell_type": "code",
   "execution_count": 9,
   "metadata": {},
   "outputs": [
    {
     "data": {
      "text/plain": [
       "DatasetDict({\n",
       "    train: Dataset({\n",
       "        features: ['passage_id', 'tmp', 'input_ids', 'attention_mask'],\n",
       "        num_rows: 132732\n",
       "    })\n",
       "})"
      ]
     },
     "execution_count": 9,
     "metadata": {},
     "output_type": "execute_result"
    }
   ],
   "source": [
    "## ギリギリ全文を含めることができるトークン長\n",
    "MAX_LENGTH = 128\n",
    "\n",
    "## 一連の情報を一つの文章に変換する\n",
    "## さらにトークナイズする\n",
    "def serialize(example):\n",
    "    sentence = \"\"\n",
    "    sentence += start_block + \"hint\\n\"\n",
    "    sentence += example[\"text\"] + end_block + \"\\n\"\n",
    "    sentence += start_block + \"user\\n\"\n",
    "    sentence += example[\"query\"] + end_block + \"\\n\"\n",
    "    sentence += start_block + \"assistant\\n\"\n",
    "    sentence += example[\"answer\"] + end_block + \"\\n\"\n",
    "    example[\"tmp\"] = sentence\n",
    "    return tokenizer(\n",
    "        example[\"tmp\"],\n",
    "        max_length = MAX_LENGTH,\n",
    "        padding = 'max_length',\n",
    "        truncation = True\n",
    "    )\n",
    "\n",
    "ds = ds.map(\n",
    "    serialize,\n",
    "    remove_columns = [\"query\", \"answer\", \"text\", \"title\", \"url\"]    \n",
    ")\n",
    "ds"
   ]
  },
  {
   "cell_type": "code",
   "execution_count": 19,
   "metadata": {},
   "outputs": [
    {
     "name": "stdout",
     "output_type": "stream",
     "text": [
      "<|im_start|>hint ハンマーハウス(英:<unk>eam <unk>ammer <unk>ouse)は、アメリカ合衆国の総合格闘技のチーム。代表はマーク・コールマン。<|im_end|> <|im_start|>user ハンマーハウスの代表は誰?<|im_end|> <|im_start|>assistant マーク・コールマン<|im_end|></s>[PAD][PAD][PAD][PAD][PAD][PAD][PAD][PAD][PAD][PAD][PAD][PAD][PAD][PAD][PAD][PAD][PAD][PAD][PAD][PAD][PAD][PAD][PAD][PAD][PAD][PAD][PAD][PAD][PAD][PAD][PAD]\n"
     ]
    }
   ],
   "source": [
    "## サンプルデータ\n",
    "print(tokenizer.decode(ds[\"train\"][10000]['input_ids']))"
   ]
  },
  {
   "cell_type": "code",
   "execution_count": 11,
   "metadata": {},
   "outputs": [
    {
     "data": {
      "text/plain": [
       "DatasetDict({\n",
       "    train: Dataset({\n",
       "        features: ['passage_id', 'tmp', 'input_ids', 'attention_mask'],\n",
       "        num_rows: 119458\n",
       "    })\n",
       "    test: Dataset({\n",
       "        features: ['passage_id', 'tmp', 'input_ids', 'attention_mask'],\n",
       "        num_rows: 13274\n",
       "    })\n",
       "})"
      ]
     },
     "execution_count": 11,
     "metadata": {},
     "output_type": "execute_result"
    }
   ],
   "source": [
    "ds = ds[\"train\"].shuffle().train_test_split(test_size = 0.1)\n",
    "ds"
   ]
  },
  {
   "cell_type": "code",
   "execution_count": 12,
   "metadata": {},
   "outputs": [],
   "source": [
    "## チューニングパラメータ\n",
    "\n",
    "num_train_epochs = 5\n",
    "per_device_train_batch_size = 16\n",
    "per_device_eval_batch_size = 16\n",
    "learning_rate = 1e-5\n",
    "weight_decay = 0.01\n",
    "\n",
    "trained_model_name = 'seanayuuto/rinna-medium-dialogue'"
   ]
  },
  {
   "cell_type": "code",
   "execution_count": 14,
   "metadata": {},
   "outputs": [],
   "source": [
    "## チューニングの準備\n",
    "\n",
    "training_args = TrainingArguments(\n",
    "    output_dir = f\"../{trained_model_name}\",\n",
    "    eval_strategy = 'epoch',\n",
    "    num_train_epochs = num_train_epochs,\n",
    "    per_device_train_batch_size = per_device_train_batch_size,\n",
    "    per_device_eval_batch_size = per_device_eval_batch_size,\n",
    "    learning_rate = learning_rate,\n",
    "    weight_decay = weight_decay,\n",
    "    logging_steps = 100\n",
    ")\n",
    "\n",
    "data_collator = DataCollatorForLanguageModeling(\n",
    "    tokenizer = tokenizer,\n",
    "    mlm = False\n",
    ")\n",
    "\n",
    "trainer = Trainer(\n",
    "    model,\n",
    "    args = training_args,\n",
    "    data_collator = data_collator,\n",
    "    train_dataset = ds['train'].select(range(1600)),\n",
    "    eval_dataset = ds['test'].select(range(400))\n",
    ")"
   ]
  },
  {
   "cell_type": "code",
   "execution_count": 15,
   "metadata": {},
   "outputs": [
    {
     "name": "stderr",
     "output_type": "stream",
     "text": [
      "`loss_type=None` was set in the config but it is unrecognised.Using the default loss: `ForCausalLMLoss`.\n"
     ]
    },
    {
     "data": {
      "text/html": [
       "\n",
       "    <div>\n",
       "      \n",
       "      <progress value='500' max='500' style='width:300px; height:20px; vertical-align: middle;'></progress>\n",
       "      [500/500 05:55, Epoch 5/5]\n",
       "    </div>\n",
       "    <table border=\"1\" class=\"dataframe\">\n",
       "  <thead>\n",
       " <tr style=\"text-align: left;\">\n",
       "      <th>Epoch</th>\n",
       "      <th>Training Loss</th>\n",
       "      <th>Validation Loss</th>\n",
       "    </tr>\n",
       "  </thead>\n",
       "  <tbody>\n",
       "    <tr>\n",
       "      <td>1</td>\n",
       "      <td>1.251600</td>\n",
       "      <td>0.919489</td>\n",
       "    </tr>\n",
       "    <tr>\n",
       "      <td>2</td>\n",
       "      <td>0.927700</td>\n",
       "      <td>0.872661</td>\n",
       "    </tr>\n",
       "    <tr>\n",
       "      <td>3</td>\n",
       "      <td>0.871600</td>\n",
       "      <td>0.853786</td>\n",
       "    </tr>\n",
       "    <tr>\n",
       "      <td>4</td>\n",
       "      <td>0.841500</td>\n",
       "      <td>0.845486</td>\n",
       "    </tr>\n",
       "    <tr>\n",
       "      <td>5</td>\n",
       "      <td>0.826200</td>\n",
       "      <td>0.842628</td>\n",
       "    </tr>\n",
       "  </tbody>\n",
       "</table><p>"
      ],
      "text/plain": [
       "<IPython.core.display.HTML object>"
      ]
     },
     "metadata": {},
     "output_type": "display_data"
    },
    {
     "name": "stdout",
     "output_type": "stream",
     "text": [
      "CPU times: user 4min 20s, sys: 1min 31s, total: 5min 51s\n",
      "Wall time: 5min 56s\n"
     ]
    },
    {
     "data": {
      "text/plain": [
       "TrainOutput(global_step=500, training_loss=0.9437066955566407, metrics={'train_runtime': 356.1093, 'train_samples_per_second': 22.465, 'train_steps_per_second': 1.404, 'total_flos': 1857401389056000.0, 'train_loss': 0.9437066955566407, 'epoch': 5.0})"
      ]
     },
     "execution_count": 15,
     "metadata": {},
     "output_type": "execute_result"
    }
   ],
   "source": [
    "%%time\n",
    "trainer.train()"
   ]
  },
  {
   "cell_type": "code",
   "execution_count": 38,
   "metadata": {},
   "outputs": [
    {
     "name": "stdout",
     "output_type": "stream",
     "text": [
      "42%\n"
     ]
    }
   ],
   "source": [
    "hint0 = \"18、19日実施の毎日新聞世論調査で、選択的夫婦別姓制度を導入することに賛成かどうかを聞いた。「賛成」は42％で、「反対」は23％。「どちらとも言えない」は34％だった。\"\n",
    "question0 = \"選択的夫婦別姓の賛成者はどのくらいいますか？\"\n",
    "## answer = \"23%\"\n",
    "\n",
    "gen = generate_sentence(\n",
    "    f\"{start_block}hint\\n{hint0}{end_block}\\n{start_block}user\\n{question0}{end_block}\\n{start_block}assistant\\n\",\n",
    "    tokenizer,\n",
    "    trainer.model\n",
    ").split(f\"{start_block}assistant \")[1].replace(end_block, \"\")\n",
    "\n",
    "print(gen)"
   ]
  },
  {
   "cell_type": "code",
   "execution_count": 35,
   "metadata": {},
   "outputs": [
    {
     "name": "stdout",
     "output_type": "stream",
     "text": [
      "2026年度以降\n"
     ]
    }
   ],
   "source": [
    "hint0 = \"石破茂首相は17日の衆院予算委員会で、小学校給食の無償化について「2026年度以降できる限り早期の制度化を目指したい」と表明した。中学校給食についても「可能な限り速やかに実現したい」と言及。社会保険料負担が生じる「130万円の壁」対策では、25年度中の臨時措置を検討していると明らかにした。\"\n",
    "question0 = \"小学校給食の無償化はいつ制度化されますか？\"\n",
    "## answer = \"2026年以降\"\n",
    "\n",
    "gen = generate_sentence(\n",
    "    f\"{start_block}hint\\n{hint0}{end_block}\\n{start_block}user\\n{question0}{end_block}\\n{start_block}assistant\\n\",\n",
    "    tokenizer,\n",
    "    trainer.model\n",
    ").split(f\"{start_block}assistant \")[1].replace(end_block, \"\")\n",
    "\n",
    "print(gen)"
   ]
  },
  {
   "cell_type": "code",
   "execution_count": null,
   "metadata": {},
   "outputs": [],
   "source": []
  }
 ],
 "metadata": {
  "kernelspec": {
   "display_name": "Python 3 (ipykernel)",
   "language": "python",
   "name": "python3"
  },
  "language_info": {
   "codemirror_mode": {
    "name": "ipython",
    "version": 3
   },
   "file_extension": ".py",
   "mimetype": "text/x-python",
   "name": "python",
   "nbconvert_exporter": "python",
   "pygments_lexer": "ipython3",
   "version": "3.11.10"
  }
 },
 "nbformat": 4,
 "nbformat_minor": 4
}
