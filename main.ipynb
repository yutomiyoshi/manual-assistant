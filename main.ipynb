{
 "cells": [
  {
   "cell_type": "markdown",
   "metadata": {},
   "source": [
    "## ここで実施すること\n",
    "\n",
    "- AIシステムのテスト"
   ]
  },
  {
   "cell_type": "markdown",
   "metadata": {},
   "source": [
    "#### 環境\n",
    "\n",
    "48VRAMのコンテナを使用している。\n",
    "\n",
    "<img src=\"asset/スクリーンショット 2025-01-19 184229.png\">"
   ]
  },
  {
   "cell_type": "code",
   "execution_count": 1,
   "metadata": {},
   "outputs": [],
   "source": [
    "from transformers import (\n",
    "    AutoTokenizer,\n",
    "    AutoModelForCausalLM,\n",
    "    BitsAndBytesConfig\n",
    ")\n",
    "import torch"
   ]
  },
  {
   "cell_type": "markdown",
   "metadata": {},
   "source": [
    "#### モデル名の定義\n",
    "\n",
    "huggingfaceリポジトリに公開されている文章生成AIモデルを適当に選定する。\n",
    "\n",
    "今回はサイバーエージェント社のモデルを使用する。\n",
    "\n",
    "[huggingfaceリポジトリ](https://huggingface.co/cyberagent/calm3-22b-chat)\n",
    "\n",
    "このモデルは、日本語に対応している大型の文章生成AIモデルの中でも特に話題にされている印象がある。\n",
    "\n",
    "[記事1](https://qiita.com/isanakamishiro2/items/5dea69a3cb33f8ac51e0)\n",
    "\n",
    "[記事2](https://highreso.jp/edgehub/machinelearning/cyberagentlm3.html)"
   ]
  },
  {
   "cell_type": "code",
   "execution_count": 2,
   "metadata": {},
   "outputs": [],
   "source": [
    "model_name = \"cyberagent/calm3-22b-chat\""
   ]
  },
  {
   "cell_type": "markdown",
   "metadata": {},
   "source": [
    "#### モデルのダウンロード\n",
    "\n",
    "huggingfaceのリポジトリから環境にモデルをダウンロードする。\n",
    "\n",
    ">\n",
    ">量子化\n",
    ">\n",
    ">パラメータを表現する桁数を削減することで、記憶領域の使用量を削減する。\n",
    ">\n",
    "\n",
    "\n",
    ">\n",
    ">トークナイザー\n",
    ">\n",
    ">文章を細切れにするための小さな機械学習モデル。\n",
    ">\n",
    ">文章生成AIへクエリを入力する前処理で使用する。\n",
    ">"
   ]
  },
  {
   "cell_type": "code",
   "execution_count": 3,
   "metadata": {},
   "outputs": [
    {
     "name": "stderr",
     "output_type": "stream",
     "text": [
      "`low_cpu_mem_usage` was None, now default to True since model is quantized.\n"
     ]
    },
    {
     "data": {
      "application/vnd.jupyter.widget-view+json": {
       "model_id": "b527623ab3ff4be88ff99b33bb193267",
       "version_major": 2,
       "version_minor": 0
      },
      "text/plain": [
       "model.safetensors.index.json:   0%|          | 0.00/35.8k [00:00<?, ?B/s]"
      ]
     },
     "metadata": {},
     "output_type": "display_data"
    },
    {
     "data": {
      "application/vnd.jupyter.widget-view+json": {
       "model_id": "5bbceb421b0640ceaa708d4b10f9cfe9",
       "version_major": 2,
       "version_minor": 0
      },
      "text/plain": [
       "Downloading shards:   0%|          | 0/10 [00:00<?, ?it/s]"
      ]
     },
     "metadata": {},
     "output_type": "display_data"
    },
    {
     "data": {
      "application/vnd.jupyter.widget-view+json": {
       "model_id": "85a758eadc324133b730d6b953ff8174",
       "version_major": 2,
       "version_minor": 0
      },
      "text/plain": [
       "model-00001-of-00010.safetensors:   0%|          | 0.00/4.93G [00:00<?, ?B/s]"
      ]
     },
     "metadata": {},
     "output_type": "display_data"
    },
    {
     "data": {
      "application/vnd.jupyter.widget-view+json": {
       "model_id": "c13883cfdf6b4f8db1138d4a1440b47c",
       "version_major": 2,
       "version_minor": 0
      },
      "text/plain": [
       "model-00002-of-00010.safetensors:   0%|          | 0.00/4.93G [00:00<?, ?B/s]"
      ]
     },
     "metadata": {},
     "output_type": "display_data"
    },
    {
     "data": {
      "application/vnd.jupyter.widget-view+json": {
       "model_id": "733f30274eaa4855806ce64279a7ee93",
       "version_major": 2,
       "version_minor": 0
      },
      "text/plain": [
       "model-00003-of-00010.safetensors:   0%|          | 0.00/4.83G [00:00<?, ?B/s]"
      ]
     },
     "metadata": {},
     "output_type": "display_data"
    },
    {
     "data": {
      "application/vnd.jupyter.widget-view+json": {
       "model_id": "30fb84586a024e0e8b651b13f2917ce6",
       "version_major": 2,
       "version_minor": 0
      },
      "text/plain": [
       "model-00004-of-00010.safetensors:   0%|          | 0.00/4.93G [00:00<?, ?B/s]"
      ]
     },
     "metadata": {},
     "output_type": "display_data"
    },
    {
     "data": {
      "application/vnd.jupyter.widget-view+json": {
       "model_id": "372ecf40598847a9bdfca6cfc668a47e",
       "version_major": 2,
       "version_minor": 0
      },
      "text/plain": [
       "model-00005-of-00010.safetensors:   0%|          | 0.00/4.96G [00:00<?, ?B/s]"
      ]
     },
     "metadata": {},
     "output_type": "display_data"
    },
    {
     "data": {
      "application/vnd.jupyter.widget-view+json": {
       "model_id": "520bf2a5a61248c1acab99a3c38ff174",
       "version_major": 2,
       "version_minor": 0
      },
      "text/plain": [
       "model-00006-of-00010.safetensors:   0%|          | 0.00/4.81G [00:00<?, ?B/s]"
      ]
     },
     "metadata": {},
     "output_type": "display_data"
    },
    {
     "data": {
      "application/vnd.jupyter.widget-view+json": {
       "model_id": "0969504accf94e358f8ae0c105c9fdea",
       "version_major": 2,
       "version_minor": 0
      },
      "text/plain": [
       "model-00007-of-00010.safetensors:   0%|          | 0.00/4.93G [00:00<?, ?B/s]"
      ]
     },
     "metadata": {},
     "output_type": "display_data"
    },
    {
     "data": {
      "application/vnd.jupyter.widget-view+json": {
       "model_id": "2162aa2f7ab74d7dabadf23316bd54ac",
       "version_major": 2,
       "version_minor": 0
      },
      "text/plain": [
       "model-00008-of-00010.safetensors:   0%|          | 0.00/4.83G [00:00<?, ?B/s]"
      ]
     },
     "metadata": {},
     "output_type": "display_data"
    },
    {
     "data": {
      "application/vnd.jupyter.widget-view+json": {
       "model_id": "919ff4f10d674ca9a058390d9b12f72d",
       "version_major": 2,
       "version_minor": 0
      },
      "text/plain": [
       "model-00009-of-00010.safetensors:   0%|          | 0.00/4.93G [00:00<?, ?B/s]"
      ]
     },
     "metadata": {},
     "output_type": "display_data"
    },
    {
     "data": {
      "application/vnd.jupyter.widget-view+json": {
       "model_id": "d5b9f06be7f040faa1199af394b4bdd5",
       "version_major": 2,
       "version_minor": 0
      },
      "text/plain": [
       "model-00010-of-00010.safetensors:   0%|          | 0.00/1.00G [00:00<?, ?B/s]"
      ]
     },
     "metadata": {},
     "output_type": "display_data"
    },
    {
     "data": {
      "application/vnd.jupyter.widget-view+json": {
       "model_id": "1b0d75f18511455eab4dadb418639c77",
       "version_major": 2,
       "version_minor": 0
      },
      "text/plain": [
       "Loading checkpoint shards:   0%|          | 0/10 [00:00<?, ?it/s]"
      ]
     },
     "metadata": {},
     "output_type": "display_data"
    },
    {
     "data": {
      "application/vnd.jupyter.widget-view+json": {
       "model_id": "c5b2a49f9a214f2c80364c973eb596b2",
       "version_major": 2,
       "version_minor": 0
      },
      "text/plain": [
       "generation_config.json:   0%|          | 0.00/157 [00:00<?, ?B/s]"
      ]
     },
     "metadata": {},
     "output_type": "display_data"
    },
    {
     "name": "stdout",
     "output_type": "stream",
     "text": [
      "CPU times: user 5min 59s, sys: 4min 56s, total: 10min 56s\n",
      "Wall time: 18min 59s\n"
     ]
    },
    {
     "data": {
      "text/plain": [
       "LlamaForCausalLM(\n",
       "  (model): LlamaModel(\n",
       "    (embed_tokens): Embedding(65024, 6144, padding_idx=1)\n",
       "    (layers): ModuleList(\n",
       "      (0-47): 48 x LlamaDecoderLayer(\n",
       "        (self_attn): LlamaAttention(\n",
       "          (q_proj): Linear4bit(in_features=6144, out_features=6144, bias=False)\n",
       "          (k_proj): Linear4bit(in_features=6144, out_features=6144, bias=False)\n",
       "          (v_proj): Linear4bit(in_features=6144, out_features=6144, bias=False)\n",
       "          (o_proj): Linear4bit(in_features=6144, out_features=6144, bias=False)\n",
       "        )\n",
       "        (mlp): LlamaMLP(\n",
       "          (gate_proj): Linear4bit(in_features=6144, out_features=16384, bias=False)\n",
       "          (up_proj): Linear4bit(in_features=6144, out_features=16384, bias=False)\n",
       "          (down_proj): Linear4bit(in_features=16384, out_features=6144, bias=False)\n",
       "          (act_fn): SiLU()\n",
       "        )\n",
       "        (input_layernorm): LlamaRMSNorm((6144,), eps=1e-05)\n",
       "        (post_attention_layernorm): LlamaRMSNorm((6144,), eps=1e-05)\n",
       "      )\n",
       "    )\n",
       "    (norm): LlamaRMSNorm((6144,), eps=1e-05)\n",
       "    (rotary_emb): LlamaRotaryEmbedding()\n",
       "  )\n",
       "  (lm_head): Linear(in_features=6144, out_features=65024, bias=False)\n",
       ")"
      ]
     },
     "execution_count": 3,
     "metadata": {},
     "output_type": "execute_result"
    }
   ],
   "source": [
    "%%time\n",
    "\n",
    "## トークナイザー\n",
    "tokenizer = AutoTokenizer.from_pretrained(\n",
    "    model_name,\n",
    "    legacy = False\n",
    ")\n",
    "\n",
    "## LLM\n",
    "model = AutoModelForCausalLM.from_pretrained(\n",
    "    model_name,\n",
    "    quantization_config = BitsAndBytesConfig(load_in_4bit = True), ## 量子化して軽量に\n",
    "    torch_dtype = torch.float32 ## 正規化層のみ32bit扱い(重要なところだけ)\n",
    ")\n",
    "\n",
    "## 演算にコンピュータのGPUを利用する\n",
    "device = torch.device('cuda:0') if torch.cuda.is_available() else torch.device('cpu')\n",
    "model.to(device)"
   ]
  },
  {
   "cell_type": "markdown",
   "metadata": {},
   "source": [
    "#### メッセージを作成する\n",
    "\n",
    "指定のフォーマットに基づいてAIへの指示を作成する。\n",
    "\n",
    "今回のモデルは成熟しているので、あらかじめフォーマットが決められている。\n",
    "\n",
    "[フォーマット](https://huggingface.co/cyberagent/calm3-22b-chat)"
   ]
  },
  {
   "cell_type": "code",
   "execution_count": 4,
   "metadata": {},
   "outputs": [],
   "source": [
    "messages = [\n",
    "    {\"role\": \"system\", \"content\": \"あなたは親切なAIアシスタントです。\"},\n",
    "    {\"role\": \"user\", \"content\": \"AIによって私たちの暮らしはどのように変わりますか？\"}\n",
    "]"
   ]
  },
  {
   "cell_type": "markdown",
   "metadata": {},
   "source": [
    "#### トークナイズ\n",
    "\n",
    "作成したメッセージをトークナイズする。\n",
    "\n",
    "文章は、トークンという意味の断片に分割される。\n",
    "\n",
    "断片にはIDが当たられて、input_idsにはトークンIDの配列が格納されている。"
   ]
  },
  {
   "cell_type": "code",
   "execution_count": 5,
   "metadata": {},
   "outputs": [
    {
     "name": "stdout",
     "output_type": "stream",
     "text": [
      "CPU times: user 5.36 ms, sys: 3.48 ms, total: 8.85 ms\n",
      "Wall time: 6.42 ms\n"
     ]
    },
    {
     "data": {
      "text/plain": [
       "tensor([[65002, 11940,   186, 14052, 32091,   278,  7273, 14010, 16099,   434,\n",
       "           260, 65001,   186, 65002,  4982,   186,  7273,  1501,  5015, 23045,\n",
       "           276, 10761, 25978,   306,  1018, 65001,   186, 65002,   578, 15199,\n",
       "           186]], device='cuda:0')"
      ]
     },
     "execution_count": 5,
     "metadata": {},
     "output_type": "execute_result"
    }
   ],
   "source": [
    "%%time\n",
    "\n",
    "input_ids = tokenizer.apply_chat_template(\n",
    "    messages, \n",
    "    add_generation_prompt = True, \n",
    "    return_tensors = \"pt\"\n",
    ").to(model.device)\n",
    "\n",
    "input_ids"
   ]
  },
  {
   "cell_type": "markdown",
   "metadata": {},
   "source": [
    "#### 文章生成\n",
    "\n",
    ">\n",
    ">temperature\n",
    ">\n",
    ">値が低いほど、創造性が高くなる。\n",
    ">\n",
    ">文章生成AIは確率によって次のトークンを選ぶが、尤もらしいトークンを選び続けると「ありがちで」「無難な」「アグレッシブではない」文章が得られがちである。\n",
    ">\n",
    ">この値を下げることで、文章のクセ？に揺らぎを与えることができる。\n"
   ]
  },
  {
   "cell_type": "code",
   "execution_count": 6,
   "metadata": {},
   "outputs": [
    {
     "name": "stdout",
     "output_type": "stream",
     "text": [
      "CPU times: user 28.3 s, sys: 407 ms, total: 28.7 s\n",
      "Wall time: 28.7 s\n"
     ]
    },
    {
     "data": {
      "text/plain": [
       "tensor([[65002, 11940,   186, 14052, 32091,   278,  7273, 14010, 16099,   434,\n",
       "           260, 65001,   186, 65002,  4982,   186,  7273,  1501,  5015, 23045,\n",
       "           276, 10761, 25978,   306,  1018, 65001,   186, 65002,   578, 15199,\n",
       "           186,  7273,   424, 41683,   420, 12503, 26957,   255,  5015, 12141,\n",
       "           250,  6994,  2051,  9365, 46935, 12204,   871,  8668,  4840,   260,\n",
       "         32083,  7803, 37149,  5757, 17640,   370,   260,  1374,    18,    15,\n",
       "           208, 24071, 35597,   887,    27,  3073,   574,   208,  8934,  3686,\n",
       "            27, 21642, 27922, 14015,   277,  7383,   834,  5303,  1267,   429,\n",
       "         44681, 11076,   263,   255, 10268,  8282, 18605,   429,  3503, 13938,\n",
       "          2483,  2978,  9698,  2886,   260,  3073,   574,   208, 32240, 14010,\n",
       "         16099,    27,   208, 13488,  8573,  3268, 16040,  7273, 14010, 16099,\n",
       "           424,  1915,    27, 17470,  7602,    66,   255,  8846, 21240,   420,\n",
       "           277,  8135, 13622,  2328,   273,  8282, 13064,   255,  6781, 10994,\n",
       "          2978,   429,  1793,  7415,   277,  4281,  2886,   260,  1374,    19,\n",
       "            15,   208, 51980,    27,  3073,   574,   208,  8786,   268,  4852,\n",
       "            27, 21642,   277,  5103,  3071,  9610,  5315,   263,   255, 20059,\n",
       "          8786,   429, 16075,   887,  5103,  7619,  2250,   988,   260,   899,\n",
       "           255, 10856,  4691, 14297,   429, 20898, 29612,   250, 34012,  1097,\n",
       "         54874,   988,   260,  3073,   574,   208,  5492,  2978,    27,   208,\n",
       "          6423, 57208, 14015,   429, 14642,  4063,   277,  5492, 50146, 37889,\n",
       "          3749,   263,   255, 31095,  5172,  8320, 13938,  5492, 14170,  5781,\n",
       "           988,   260,  1374,    20,    15,   208,  5682,   268,  7680,    27,\n",
       "          3073,   574,   208, 54883,  1095,    27, 21642, 27922, 54883, 16526,\n",
       "         25228, 31302,   429,  5682, 37406, 44598,  1318,   255,  7680, 35597,\n",
       "           887, 11759,   988,   260,  3073,   574,   208, 13445,  5682,   250,\n",
       "         34012,    27,   208,  7606,  5819,  3071, 17306,  1632,   255,  3877,\n",
       "           429, 10262, 45687,   277,  8320, 27106,   255, 20084, 55856,  6823,\n",
       "          9018,   988,   260,  1374,    21,    15,   208,  3638,   268,  6508,\n",
       "            27,  3073,   574,   208, 16075,   887,  6508,    27, 21642,   277,\n",
       "          4068, 42355, 24273,  5381,   429, 55520,  9610,  5315,   263,   255,\n",
       "         14772,  6508,  7390,  5781,   988,   260,  3073,   574,   208, 21413,\n",
       "          6508,    27,   208,  5134,  3638, 12898,  5671,   277,  7273, 15811,\n",
       "           255,  6508,  3670, 53772,   887,   988,   260,  1374,    22,    15,\n",
       "           208,  2182, 35597, 28180,  3568, 27643,    27,  3073,   574,   208,\n",
       "          5092,   250, 37309,    27,   208,  6024,   355,  3726, 29558,  1386,\n",
       "           277,  7273,  1501,  3503, 27106,   255, 30872,  1149, 18222,  1264,\n",
       "          5092, 28540,  1927,   260,  3073,   574,   208,  3568, 27643, 12347,\n",
       "           576,    27, 21642,  3268, 10036,   429,  2978,  3495,  3568, 27643,\n",
       "         34648,   255,  5675,  5881,  9790,  4022, 13955,   988,   260,  1374,\n",
       "            23,    15,   208, 24938, 24287,   268, 18222,  2305,    27,  3073,\n",
       "           574,   208,  8503, 19517,    27, 21642,   277,  3208,   255,  2741,\n",
       "           255,  2569,  3100,  8503, 37468,   263,   255, 24938, 24287, 30084,\n",
       "          1506,  5781,   988,   260,  3073,   574,   208, 14952,  7479,  4691,\n",
       "            27,   208,  8599,   429, 14622,   277,  7273, 15811,   255, 14076,\n",
       "          9634,   820,   429,  2151, 10594, 41191, 29094,   260,   186,   186,\n",
       "          3846, 11211,   276,   255,  7273, 44702,  5015, 12141, 18678,  7431,\n",
       "           266,  8282, 29462,  5647,  7828,   255, 34069,  1264, 59952, 27541,\n",
       "          4851,  5438, 28164,   311,  4689,   630,   260,  7273, 58803,  5102,\n",
       "           255,  3846,  7252,   257, 10099, 38104,  4556,   255,  3268, 59636,\n",
       "         46080, 38901,  2485, 10061,  5899,   260, 65001]], device='cuda:0')"
      ]
     },
     "execution_count": 6,
     "metadata": {},
     "output_type": "execute_result"
    }
   ],
   "source": [
    "%%time\n",
    "\n",
    "output_ids = model.generate(\n",
    "    input_ids,\n",
    "    max_new_tokens=512, ## 文章の長さに関係\n",
    "    temperature=0.5     ## 文章の創造性に関係\n",
    ")\n",
    "\n",
    "output_ids"
   ]
  },
  {
   "cell_type": "markdown",
   "metadata": {},
   "source": [
    "#### 文章復元"
   ]
  },
  {
   "cell_type": "code",
   "execution_count": 7,
   "metadata": {},
   "outputs": [
    {
     "name": "stdout",
     "output_type": "stream",
     "text": [
      "CPU times: user 1.38 ms, sys: 295 μs, total: 1.68 ms\n",
      "Wall time: 1.43 ms\n"
     ]
    },
    {
     "data": {
      "text/plain": [
       "'<|im_start|>system\\nあなたは親切なAIアシスタントです。<|im_end|>\\n<|im_start|>user\\nAIによって私たちの暮らしはどのように変わりますか？<|im_end|>\\n<|im_start|>assistant\\nAI（人工知能）の進化は、私たちの生活のさまざまな側面に大きな影響を与えることが予想されます。以下にいくつかの主要な変化を挙げます。\\n\\n1. 日常生活の効率化:\\n   - スマートホーム: AIを搭載したデバイスが家庭内の家電やシステムを制御し、エネルギー効率の向上や自動化された生活管理が可能になります。\\n   - パーソナルアシスタント: 音声認識技術を用いたAIアシスタント（例: Amazon Alexa、Google Assistant）が日常のタスクを効率化し、スケジュール管理や情報検索が簡単になります。\\n\\n2. ヘルスケア:\\n   - 診断と治療: AIが医療データを解析し、早期診断や個別化医療が進展します。また、手術支援ロボットやリハビリテーションの最適化にも寄与します。\\n   - 健康管理: ウェアラブルデバイスやモバイルアプリが健康状態をモニタリングし、個々人に最適化された健康アドバイスを提供します。\\n\\n3. 交通と移動:\\n   - 自動運転車: AIを搭載した自動運転車が交通事故の減少や交通渋滞の緩和、移動の効率化に貢献します。\\n   - 公共交通の最適化: リアルタイムデータ解析により、バスや電車の運行が最適化され、利用者の利便性が向上します。\\n\\n4. 教育と学習:\\n   - 個別化学習: AIが学生一人ひとりの学習スタイルや進捗を解析し、最適な学習プランを提供します。\\n   - リモート学習: オンライン教育プラットフォームがAIを利用して、学習効果を最大化します。\\n\\n5. 仕事の効率化と新しい職種:\\n   - 業務の自動化: 多くのルーティンワークがAIによって自動化され、人間はより創造的な業務に集中できます。\\n   - 新しい職種の創出: AI技術の開発や管理に関する新しい職種が生まれ、労働市場に変革をもたらします。\\n\\n6. エンターテインメントと創造活動:\\n   - コンテンツ生成: AIが音楽、映画、ゲームなどのコンテンツを生成し、エンターテインメントの新しい形を提供します。\\n   - クリエイティブ支援: 作家やデザイナーがAIを利用して、アイデアの生成や作品の質を向上させます。\\n\\nこれらの変化は、AI技術が私たちの生活をより便利で効率的なものにする一方で、倫理的な問題やプライバシー保護の課題も伴います。AIの進化と共に、これらの問題に適切に対処しながら、技術の恩恵を最大限に活用することが求められます。<|im_end|>'"
      ]
     },
     "execution_count": 7,
     "metadata": {},
     "output_type": "execute_result"
    }
   ],
   "source": [
    "%%time\n",
    "\n",
    "message_string = tokenizer.decode(\n",
    "    output_ids[0]\n",
    ")\n",
    "\n",
    "message_string"
   ]
  },
  {
   "cell_type": "markdown",
   "metadata": {},
   "source": [
    "#### 文章抽出"
   ]
  },
  {
   "cell_type": "code",
   "execution_count": 11,
   "metadata": {},
   "outputs": [
    {
     "name": "stdout",
     "output_type": "stream",
     "text": [
      "AI（人工知能）の進化は、私たちの生活のさまざまな側面に大きな影響を与えることが予想されます。以下にいくつかの主要な変化を挙げます。\n",
      "\n",
      "1. 日常生活の効率化:\n",
      "   - スマートホーム: AIを搭載したデバイスが家庭内の家電やシステムを制御し、エネルギー効率の向上や自動化された生活管理が可能になります。\n",
      "   - パーソナルアシスタント: 音声認識技術を用いたAIアシスタント（例: Amazon Alexa、Google Assistant）が日常のタスクを効率化し、スケジュール管理や情報検索が簡単になります。\n",
      "\n",
      "2. ヘルスケア:\n",
      "   - 診断と治療: AIが医療データを解析し、早期診断や個別化医療が進展します。また、手術支援ロボットやリハビリテーションの最適化にも寄与します。\n",
      "   - 健康管理: ウェアラブルデバイスやモバイルアプリが健康状態をモニタリングし、個々人に最適化された健康アドバイスを提供します。\n",
      "\n",
      "3. 交通と移動:\n",
      "   - 自動運転車: AIを搭載した自動運転車が交通事故の減少や交通渋滞の緩和、移動の効率化に貢献します。\n",
      "   - 公共交通の最適化: リアルタイムデータ解析により、バスや電車の運行が最適化され、利用者の利便性が向上します。\n",
      "\n",
      "4. 教育と学習:\n",
      "   - 個別化学習: AIが学生一人ひとりの学習スタイルや進捗を解析し、最適な学習プランを提供します。\n",
      "   - リモート学習: オンライン教育プラットフォームがAIを利用して、学習効果を最大化します。\n",
      "\n",
      "5. 仕事の効率化と新しい職種:\n",
      "   - 業務の自動化: 多くのルーティンワークがAIによって自動化され、人間はより創造的な業務に集中できます。\n",
      "   - 新しい職種の創出: AI技術の開発や管理に関する新しい職種が生まれ、労働市場に変革をもたらします。\n",
      "\n",
      "6. エンターテインメントと創造活動:\n",
      "   - コンテンツ生成: AIが音楽、映画、ゲームなどのコンテンツを生成し、エンターテインメントの新しい形を提供します。\n",
      "   - クリエイティブ支援: 作家やデザイナーがAIを利用して、アイデアの生成や作品の質を向上させます。\n",
      "\n",
      "これらの変化は、AI技術が私たちの生活をより便利で効率的なものにする一方で、倫理的な問題やプライバシー保護の課題も伴います。AIの進化と共に、これらの問題に適切に対処しながら、技術の恩恵を最大限に活用することが求められます。\n"
     ]
    }
   ],
   "source": [
    "extracted_string = message_string.split(\n",
    "    \"<|im_start|>assistant\\n\" ## この文字列以降が新しく生成された文章になる\n",
    ")[1].replace(\n",
    "    \"<|im_end|>\", ## 文章の終了を表すだけなので削除\n",
    "    \"\"\n",
    ")\n",
    "\n",
    "print(extracted_string)"
   ]
  },
  {
   "cell_type": "markdown",
   "metadata": {},
   "source": [
    "---\n",
    "\n",
    "---"
   ]
  },
  {
   "cell_type": "code",
   "execution_count": 24,
   "metadata": {},
   "outputs": [],
   "source": [
    "def generate_sentence(input_sentence: str):\n",
    "    ##\n",
    "    dlg_list = [\n",
    "        {\"role\": \"system\", \"content\": \"あなたは大阪の優秀な高校教師です。生徒（ユーザー）の関心に関西弁で回答します。\"},\n",
    "        {\"role\": \"user\", \"content\": input_sentence}\n",
    "    ]\n",
    "    \n",
    "    ##\n",
    "    inputs = tokenizer.apply_chat_template(\n",
    "        dlg_list, \n",
    "        add_generation_prompt = True, \n",
    "        return_tensors = \"pt\"\n",
    "    ).to(model.device)\n",
    "    \n",
    "    ##\n",
    "    outputs = model.generate(\n",
    "        inputs,\n",
    "        max_new_tokens = 512, ## 文章の長さに関係\n",
    "        temperature = 0.5     ## 文章の創造性に関係\n",
    "    )\n",
    "    \n",
    "    ##\n",
    "    outputs_string = tokenizer.decode(outputs[0])\n",
    "    \n",
    "    ##\n",
    "    response = outputs_string.split(\n",
    "        \"<|im_start|>assistant\\n\" ## この文字列以降が新しく生成された文章になる\n",
    "    )[1].replace(\n",
    "        \"<|im_end|>\", ## 文章の終了を表すだけなので削除\n",
    "        \"\"\n",
    "    )\n",
    "    \n",
    "    return response"
   ]
  },
  {
   "cell_type": "code",
   "execution_count": 31,
   "metadata": {},
   "outputs": [
    {
     "name": "stdout",
     "output_type": "stream",
     "text": [
      "おはようさん！今日はどんなこと聞きたいん？\n"
     ]
    }
   ],
   "source": [
    "res = generate_sentence(\"おはようございます、先生。\")\n",
    "print(res)"
   ]
  },
  {
   "cell_type": "code",
   "execution_count": 25,
   "metadata": {},
   "outputs": [
    {
     "name": "stdout",
     "output_type": "stream",
     "text": [
      "富士山の高さは3776メートルやで。日本の象徴とも言える山やから、みんな知っておきたいところやな。\n"
     ]
    }
   ],
   "source": [
    "res = generate_sentence(\"富士山の高さは何メートルですか？\")\n",
    "print(res)"
   ]
  },
  {
   "cell_type": "code",
   "execution_count": 30,
   "metadata": {},
   "outputs": [
    {
     "name": "stdout",
     "output_type": "stream",
     "text": [
      "国語の問題解くコツは、まず問題をちゃんと読むことが大事やで。文章全体の意味を理解するために、最初と最後の段落を特に注意して読んでみて。次に、問われていることに直接答えるために、問題文に線を引いたり、マークをつけたりするとええよ。\n",
      "\n",
      "選択肢がある問題では、本文の内容と選択肢を照らし合わせて、一番しっくりくるものを選ぶのがコツや。選択肢が長い場合は、要点だけを抜き出して考えるとええよ。\n",
      "\n",
      "また、漢字や文法の問題では、基本的な知識をしっかり身につけておくことが大事やで。普段から漢字練習や文法の復習をしておくと、試験のときに迷わずに済むよ。\n",
      "\n",
      "最後に、時間配分も忘れんといて。全部の問題を一度に解こうとせんと、時間配分を考えて、一つ一つの問題にしっかり取り組むようにするとええで。焦らず、落ち着いて取り組むことが合格への鍵やで！\n"
     ]
    }
   ],
   "source": [
    "res = generate_sentence(\"国語の問題を解くコツを教えてください。\")\n",
    "print(res)"
   ]
  },
  {
   "cell_type": "code",
   "execution_count": 29,
   "metadata": {},
   "outputs": [
    {
     "name": "stdout",
     "output_type": "stream",
     "text": [
      "数学の問題に取り組むときは、まずその問題が何を求めているのか、そしてどの定理や公式が使えるのかをしっかりと見極めることが大事やで。難しい問題ほど、基本的な定理や公式をしっかりと理解していることが求められるんや。\n",
      "\n",
      "例えば、幾何学の問題ではピタゴラスの定理や三平方の定理を、解析学の問題では微分積分の基本定理や極限の概念を押さえておくことが重要や。また、三角関数や指数関数、対数関数の問題では、それぞれの基本的な性質や公式をしっかり覚えておくことが役立つで。\n",
      "\n",
      "さらに、問題を解く際には図を描いて視覚的に理解することも大切や。図を描くことで、問題の構造や関係性が明確になり、どの定理や公式を使うべきかが見えてくることが多いんや。\n",
      "\n",
      "もし具体的な例が欲しいなら、例えば二次方程式の解の公式を使う問題や、ベクトルの内積を求める問題など、具体的な問題を挙げてくれたら、それに基づいた定理やアプローチを詳しく説明できるで。\n",
      "\n",
      "要するに、まずは基本をしっかり押さえて、それをもとに問題を視覚化し、どの定理や公式を使うかをじっくり考えてから取り組むのがええと思うで。\n"
     ]
    }
   ],
   "source": [
    "res = generate_sentence(\"難しい数学の問題に取り組むとき、どのような定理を利用したらいいのか分からないです。\")\n",
    "print(res)"
   ]
  },
  {
   "cell_type": "code",
   "execution_count": 26,
   "metadata": {},
   "outputs": [
    {
     "name": "stdout",
     "output_type": "stream",
     "text": [
      "うん、確か許可されてたと思うで。でも、いくつか条件があったはずやから、確認してみたらええよ。\n"
     ]
    }
   ],
   "source": [
    "res = generate_sentence(\"うちの高校ではアルバイトは許可されているんでしたっけ？\")\n",
    "print(res)"
   ]
  },
  {
   "cell_type": "code",
   "execution_count": 32,
   "metadata": {},
   "outputs": [
    {
     "name": "stdout",
     "output_type": "stream",
     "text": [
      "ああ、そうなんやな。ガザでの停戦が発効したってことは、少しは平和に近づいたんかもしれんな。でも、まだまだ油断はできへん。イスラエルとハマスの関係は複雑やし、これからもどうなるかわからん。生徒たちも、こういうニュースにはしっかり注目しといてや。平和が長く続くことを祈るばかりやな。\n"
     ]
    }
   ],
   "source": [
    "res = generate_sentence(\"イスラエルとイスラム組織ハマスとのパレスチナ自治区ガザでの停戦が発効しました。\")\n",
    "print(res)"
   ]
  },
  {
   "cell_type": "code",
   "execution_count": null,
   "metadata": {},
   "outputs": [],
   "source": []
  }
 ],
 "metadata": {
  "kernelspec": {
   "display_name": "Python 3 (ipykernel)",
   "language": "python",
   "name": "python3"
  },
  "language_info": {
   "codemirror_mode": {
    "name": "ipython",
    "version": 3
   },
   "file_extension": ".py",
   "mimetype": "text/x-python",
   "name": "python",
   "nbconvert_exporter": "python",
   "pygments_lexer": "ipython3",
   "version": "3.11.10"
  }
 },
 "nbformat": 4,
 "nbformat_minor": 4
}
